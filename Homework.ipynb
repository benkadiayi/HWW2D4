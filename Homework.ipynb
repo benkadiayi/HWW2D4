{
 "cells": [
  {
   "cell_type": "code",
   "execution_count": 3,
   "id": "851866a1",
   "metadata": {},
   "outputs": [
    {
     "name": "stdout",
     "output_type": "stream",
     "text": [
      "Here are your option:\n",
      "-Type any product to be added on your list\n",
      "-Type 'del' to delete any existing item on your list\n",
      "-Type 'quit' to stop and see your final list\n",
      "What can i do for you? \n",
      "what can i do for you? ben\n",
      "\n",
      "Here is your current list ['ben']\n",
      "what can i do for you? gh\n",
      "\n",
      "Here is your current list ['ben', 'gh']\n",
      "what can i do for you? kj\n",
      "\n",
      "Here is your current list ['ben', 'gh', 'kj']\n",
      "what can i do for you? del\n",
      "which item would you like to deletegh\n",
      "\n",
      "Here is your updated list ['ben', 'kj']\n",
      "what can i do for you? quit\n",
      "\n",
      "Here is your final list ['ben', 'kj']\n"
     ]
    }
   ],
   "source": [
    "# Exercise 1 - Turn the shopping cart program from yesterday into an object-oriented program\n",
    "\n",
    "class list:\n",
    "    def changes(self):\n",
    "        self.list = []\n",
    "        self.active = True\n",
    "        self.prompt = (\"Here are your option:\\n-Type any product to be added on your list\\n-Type 'del' to delete any existing item on your list\\n-Type 'quit' to stop and see your final list\")\n",
    "        self.prompt += (\"\\nWhat can i do for you? \")\n",
    "        print(self.prompt)\n",
    "        while self.active:\n",
    "            self.item = input(\"what can i do for you? \")\n",
    "            if self.item == 'quit':\n",
    "                print(f'\\nHere is your final list {self.list}')\n",
    "                self.active = False\n",
    "            elif self.item == 'del':\n",
    "                self.delitem = input('which item would you like to delete')\n",
    "                self.list.remove(self.delitem)\n",
    "                print(f'\\nHere is your updated list {self.list}')\n",
    "            else:\n",
    "                self.list.append(self.item)\n",
    "                print(f'\\nHere is your current list {self.list}')\n",
    "\n",
    "p = list()\n",
    "p.changes()"
   ]
  },
  {
   "cell_type": "code",
   "execution_count": 6,
   "id": "e1c2a8e7",
   "metadata": {},
   "outputs": [
    {
     "name": "stdout",
     "output_type": "stream",
     "text": [
      "What is your string? benjdlkd\n",
      "Here is your string in uppercase BENJDLKD\n"
     ]
    }
   ],
   "source": [
    "# Exercise 2 - Write a Python class which has two methods get_String and print_String. get_String accept a string from the user and print_String print the string in upper case\n",
    "\n",
    "class stringTrans:\n",
    "   \n",
    "    def get_string(self):\n",
    "        self.string = input(\"What is your string? \")\n",
    "    def print_string(self):\n",
    "        print(f\"Here is your string in uppercase {self.string.upper()}\")\n",
    "                  \n",
    "p= stringTrans()\n",
    "p.get_string()\n",
    "p.print_string()"
   ]
  }
 ],
 "metadata": {
  "kernelspec": {
   "display_name": "Python 3",
   "language": "python",
   "name": "python3"
  }
 },
 "nbformat": 4,
 "nbformat_minor": 5
}
